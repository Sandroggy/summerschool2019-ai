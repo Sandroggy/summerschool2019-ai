{
 "cells": [
  {
   "cell_type": "code",
   "execution_count": 1,
   "metadata": {},
   "outputs": [],
   "source": [
    "import numpy as np\n",
    "import tensorflow as tf\n",
    "import matplotlib.pyplot as plt"
   ]
  },
  {
   "cell_type": "code",
   "execution_count": 2,
   "metadata": {},
   "outputs": [],
   "source": [
    "from numpy import genfromtxt\n",
    "train_data = genfromtxt('exoTrain.csv', skip_header=1, delimiter=',')\n",
    "test_data = genfromtxt('exoTest.csv', skip_header=1, delimiter=',')"
   ]
  },
  {
   "cell_type": "code",
   "execution_count": 3,
   "metadata": {
    "scrolled": true
   },
   "outputs": [
    {
     "name": "stdout",
     "output_type": "stream",
     "text": [
      "[2. 2. 2. 2. 2. 1. 1. 1. 1. 1. 1. 1. 1. 1. 1. 1. 1. 1. 1. 1. 1. 1. 1. 1.\n",
      " 1. 1. 1. 1. 1. 1. 1. 1. 1. 1. 1. 1. 1. 1. 1. 1. 1. 1. 1. 1. 1. 1. 1. 1.\n",
      " 1. 1. 1. 1. 1. 1. 1. 1. 1. 1. 1. 1. 1. 1. 1. 1. 1. 1. 1. 1. 1. 1. 1. 1.\n",
      " 1. 1. 1. 1. 1. 1. 1. 1. 1. 1. 1. 1. 1. 1. 1. 1. 1. 1. 1. 1. 1. 1. 1. 1.\n",
      " 1. 1. 1. 1. 1. 1. 1. 1. 1. 1. 1. 1. 1. 1. 1. 1. 1. 1. 1. 1. 1. 1. 1. 1.\n",
      " 1. 1. 1. 1. 1. 1. 1. 1. 1. 1. 1. 1. 1. 1. 1. 1. 1. 1. 1. 1. 1. 1. 1. 1.\n",
      " 1. 1. 1. 1. 1. 1. 1. 1. 1. 1. 1. 1. 1. 1. 1. 1. 1. 1. 1. 1. 1. 1. 1. 1.\n",
      " 1. 1. 1. 1. 1. 1. 1. 1. 1. 1. 1. 1. 1. 1. 1. 1. 1. 1. 1. 1. 1. 1. 1. 1.\n",
      " 1. 1. 1. 1. 1. 1. 1. 1. 1. 1. 1. 1. 1. 1. 1. 1. 1. 1. 1. 1. 1. 1. 1. 1.\n",
      " 1. 1. 1. 1. 1. 1. 1. 1. 1. 1. 1. 1. 1. 1. 1. 1. 1. 1. 1. 1. 1. 1. 1. 1.\n",
      " 1. 1. 1. 1. 1. 1. 1. 1. 1. 1. 1. 1. 1. 1. 1. 1. 1. 1. 1. 1. 1. 1. 1. 1.\n",
      " 1. 1. 1. 1. 1. 1. 1. 1. 1. 1. 1. 1. 1. 1. 1. 1. 1. 1. 1. 1. 1. 1. 1. 1.\n",
      " 1. 1. 1. 1. 1. 1. 1. 1. 1. 1. 1. 1. 1. 1. 1. 1. 1. 1. 1. 1. 1. 1. 1. 1.\n",
      " 1. 1. 1. 1. 1. 1. 1. 1. 1. 1. 1. 1. 1. 1. 1. 1. 1. 1. 1. 1. 1. 1. 1. 1.\n",
      " 1. 1. 1. 1. 1. 1. 1. 1. 1. 1. 1. 1. 1. 1. 1. 1. 1. 1. 1. 1. 1. 1. 1. 1.\n",
      " 1. 1. 1. 1. 1. 1. 1. 1. 1. 1. 1. 1. 1. 1. 1. 1. 1. 1. 1. 1. 1. 1. 1. 1.\n",
      " 1. 1. 1. 1. 1. 1. 1. 1. 1. 1. 1. 1. 1. 1. 1. 1. 1. 1. 1. 1. 1. 1. 1. 1.\n",
      " 1. 1. 1. 1. 1. 1. 1. 1. 1. 1. 1. 1. 1. 1. 1. 1. 1. 1. 1. 1. 1. 1. 1. 1.\n",
      " 1. 1. 1. 1. 1. 1. 1. 1. 1. 1. 1. 1. 1. 1. 1. 1. 1. 1. 1. 1. 1. 1. 1. 1.\n",
      " 1. 1. 1. 1. 1. 1. 1. 1. 1. 1. 1. 1. 1. 1. 1. 1. 1. 1. 1. 1. 1. 1. 1. 1.\n",
      " 1. 1. 1. 1. 1. 1. 1. 1. 1. 1. 1. 1. 1. 1. 1. 1. 1. 1. 1. 1. 1. 1. 1. 1.\n",
      " 1. 1. 1. 1. 1. 1. 1. 1. 1. 1. 1. 1. 1. 1. 1. 1. 1. 1. 1. 1. 1. 1. 1. 1.\n",
      " 1. 1. 1. 1. 1. 1. 1. 1. 1. 1. 1. 1. 1. 1. 1. 1. 1. 1. 1. 1. 1. 1. 1. 1.\n",
      " 1. 1. 1. 1. 1. 1. 1. 1. 1. 1. 1. 1. 1. 1. 1. 1. 1. 1.]\n",
      "[[ 1.19880e+02  1.00210e+02  8.64600e+01 ...  3.57800e+01  2.69430e+02\n",
      "   5.77200e+01]\n",
      " [ 5.73659e+03  5.69998e+03  5.71716e+03 ... -2.36619e+03 -2.29486e+03\n",
      "  -2.03472e+03]\n",
      " [ 8.44480e+02  8.17490e+02  7.70070e+02 ... -1.62680e+02 -3.67900e+01\n",
      "   3.06300e+01]\n",
      " ...\n",
      " [-5.40100e+01 -4.41300e+01 -4.12300e+01 ...  5.47000e+00  1.44600e+01\n",
      "   1.87000e+01]\n",
      " [ 9.13600e+01  8.56000e+01  4.88100e+01 ... -8.43000e+00 -6.48000e+00\n",
      "   1.76000e+01]\n",
      " [ 3.07119e+03  2.78253e+03  2.60869e+03 ... -2.77220e+02 -6.96300e+01\n",
      "   1.21560e+02]]\n",
      "(5087,)\n",
      "(5087, 3197)\n"
     ]
    }
   ],
   "source": [
    "label_test = np.array([item[0] for item in test_data])\n",
    "data_test = np.delete(test_data, [0], axis=1)\n",
    "label_train = np.array([item[0] for item in train_data])\n",
    "data_train = np.delete(train_data, [0], axis=1)\n",
    "print(label_test)\n",
    "print(data_test)\n",
    "print(label_train.shape)\n",
    "print(data_train.shape)"
   ]
  },
  {
   "cell_type": "code",
   "execution_count": 67,
   "metadata": {},
   "outputs": [
    {
     "name": "stdout",
     "output_type": "stream",
     "text": [
      "[ 0.52205598  0.45958061  0.06313585 ...  0.32025558 -0.03032828\n",
      " -0.30798274]\n"
     ]
    }
   ],
   "source": [
    "data_train = ((data_train - np.mean(data_train, axis=1).reshape(-1,1)) / \n",
    "           np.std(data_train, axis=1).reshape(-1,1))\n",
    "data_test = ((data_test - np.mean(data_test, axis=1).reshape(-1,1)) / \n",
    "          np.std(data_test, axis=1).reshape(-1,1))\n",
    "\n",
    "#label_train = np.array_split(label_train, 4)\n",
    "#data_train = np.array_split(data_train, 4)\n",
    "\n",
    "print(data_train[0])\n",
    "\n",
    "#print(data_test)\n",
    "#print(label_test.shape)\n",
    "#print(data_test.shape)\n",
    "#print(label_train.shape)\n",
    "#print(data_train.shape)"
   ]
  },
  {
   "cell_type": "code",
   "execution_count": 72,
   "metadata": {},
   "outputs": [],
   "source": [
    "model = tf.keras.models.Sequential([\n",
    "  tf.keras.layers.Dense(64, activation=tf.nn.relu),\n",
    "\ttf.keras.layers.Dropout(0.3),\n",
    "  tf.keras.layers.Dense(32, activation=tf.nn.relu),\n",
    "\ttf.keras.layers.Dropout(0.2),\n",
    "  tf.keras.layers.Dense(2, activation=tf.nn.sigmoid)\n",
    "])\n"
   ]
  },
  {
   "cell_type": "code",
   "execution_count": 73,
   "metadata": {},
   "outputs": [],
   "source": [
    "tf.keras.initializers.RandomUniform(minval=-500, maxval=500, seed=None)\n",
    "model.compile(optimizer=(tf.keras.optimizers.Adagrad(lr=0.02, epsilon=None, decay=0.0)),\n",
    "              loss='binary_crossentropy',\n",
    "              metrics=['accuracy'])"
   ]
  },
  {
   "cell_type": "code",
   "execution_count": 74,
   "metadata": {},
   "outputs": [
    {
     "name": "stdout",
     "output_type": "stream",
     "text": [
      "Train on 4578 samples, validate on 509 samples\n",
      "Epoch 1/5\n",
      "4578/4578 [==============================] - 1s 244us/sample - loss: 0.1018 - acc: 0.9559 - val_loss: 0.0107 - val_acc: 1.0000\n",
      "Epoch 2/5\n",
      "4578/4578 [==============================] - 1s 158us/sample - loss: -0.0572 - acc: 0.9914 - val_loss: 0.0027 - val_acc: 1.0000\n",
      "Epoch 3/5\n",
      "4578/4578 [==============================] - 1s 148us/sample - loss: -0.1219 - acc: 0.9919 - val_loss: 8.8929e-04 - val_acc: 1.0000\n",
      "Epoch 4/5\n",
      "4578/4578 [==============================] - 1s 141us/sample - loss: -0.2541 - acc: 0.9917 - val_loss: 4.2994e-04 - val_acc: 1.0000\n",
      "Epoch 5/5\n",
      "4578/4578 [==============================] - 1s 143us/sample - loss: -0.4705 - acc: 0.9919 - val_loss: 3.6988e-04 - val_acc: 1.0000\n"
     ]
    }
   ],
   "source": [
    "history = model.fit(data_train, label_train, validation_split=0.1, batch_size=100, epochs=5)\n"
   ]
  },
  {
   "cell_type": "code",
   "execution_count": 75,
   "metadata": {},
   "outputs": [
    {
     "name": "stdout",
     "output_type": "stream",
     "text": [
      "570/570 [==============================] - 0s 132us/sample - loss: -0.2504 - acc: 0.9912\n"
     ]
    },
    {
     "data": {
      "text/plain": [
       "[-0.25042755708788733, 0.99122804]"
      ]
     },
     "execution_count": 75,
     "metadata": {},
     "output_type": "execute_result"
    }
   ],
   "source": [
    "model.evaluate(data_test, label_test)"
   ]
  },
  {
   "cell_type": "code",
   "execution_count": 76,
   "metadata": {},
   "outputs": [
    {
     "data": {
      "image/png": "[encoded data removed]",
      "text/plain": [
       "<Figure size 432x288 with 1 Axes>"
      ]
     },
     "metadata": {
      "needs_background": "light"
     },
     "output_type": "display_data"
    }
   ],
   "source": [
    "plt.plot(history.history['acc'])\n",
    "plt.plot(history.history['val_acc'])\n",
    "plt.title('model accuracy')\n",
    "plt.ylabel('accuracy')\n",
    "plt.xlabel('epoch')\n",
    "plt.legend(['train', 'test'], loc='upper left')\n",
    "plt.show()"
   ]
  },
  {
   "cell_type": "code",
   "execution_count": 22,
   "metadata": {},
   "outputs": [
    {
     "data": {
      "image/png": "[encoded data removed]",
      "text/plain": [
       "<Figure size 432x288 with 1 Axes>"
      ]
     },
     "metadata": {
      "needs_background": "light"
     },
     "output_type": "display_data"
    }
   ],
   "source": [
    "plt.plot(history.history['loss'])\n",
    "plt.plot(history.history['val_loss'])\n",
    "plt.title('model loss')\n",
    "plt.ylabel('loss')\n",
    "plt.xlabel('epoch')\n",
    "plt.legend(['train', 'test'], loc='upper left')\n",
    "plt.show()"
   ]
  },
  {
   "cell_type": "code",
   "execution_count": null,
   "metadata": {},
   "outputs": [],
   "source": [
    "merged = tf.summary.merge_all()\n",
    "train_writer = tf.summary.FileWriter(FLAGS.summaries_dir + '/train',\n",
    "                                      sess.graph)\n",
    "test_writer = tf.summary.FileWriter(FLAGS.summaries_dir + '/test')\n",
    "tf.global_variables_initializer().run()"
   ]
  },
  {
   "cell_type": "code",
   "execution_count": null,
   "metadata": {},
   "outputs": [],
   "source": []
  }
 ],
 "metadata": {
  "kernelspec": {
   "display_name": "Python 3",
   "language": "python",
   "name": "python3"
  },
  "language_info": {
   "codemirror_mode": {
    "name": "ipython",
    "version": 3
   },
   "file_extension": ".py",
   "mimetype": "text/x-python",
   "name": "python",
   "nbconvert_exporter": "python",
   "pygments_lexer": "ipython3",
   "version": "3.7.3"
  }
 },
 "nbformat": 4,
 "nbformat_minor": 2
}
